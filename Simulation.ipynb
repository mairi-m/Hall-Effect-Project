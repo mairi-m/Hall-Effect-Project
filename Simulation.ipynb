{
 "cells": [
  {
   "cell_type": "markdown",
   "id": "ec8f2330-be13-490b-b0f6-79207562a21c",
   "metadata": {},
   "source": [
    "## Hall Effect Heating and Cooling Simulation"
   ]
  },
  {
   "cell_type": "markdown",
   "id": "f374aab6-a4a1-457e-b194-a50fe49185c0",
   "metadata": {},
   "source": [
    "## To-Do\n",
    "- Get schematics of hall bar. Materials, dimensions, ect\n",
    "- Read about heat transfer functions\n",
    "- Investigate the maximum heat that can be given from the heater. (In terms of safe currents to run through to get an idea of what values to use).\n",
    "- Make reposototory work"
   ]
  },
  {
   "cell_type": "markdown",
   "id": "0fe8a98f-0393-40d6-ab7c-563177a75956",
   "metadata": {},
   "source": [
    "### Considerations\n",
    "\n",
    "- Thermal diffusity constant of materials\n",
    "\n",
    "Made of copper/brass (i think one of those) and outside made of stainless steel (maybe).\n",
    "\n",
    "- Model heat loss to the environment\n",
    "\n",
    "Radiation, convection, conduction (not this one for air?). Figure out which one dominates. Is it important to model both? Radiation and convection from room? \n",
    "\n",
    "- Consider the fact we are cooling from the outside of the hall bar but heating from the inside.\n",
    "\n",
    "- Heating\n",
    "\n",
    "Find the relationship between current given to the resistor in the hall bar and how much heat is produced. Can that just be measure the power going in and then approximate that all that power is dissipated through the resistor.\n",
    "\n",
    "- Overall measure how much energy is flowing in or out.\n",
    "\n",
    "- Use finite element analysis\n",
    "\n",
    "- Consider how we actually put the coolant in. Can only put so much in at one time. Try and make it efficient as well so it doesn't all evaporate (Can be a point for improving the experiment)."
   ]
  },
  {
   "cell_type": "markdown",
   "id": "8c08a5c6-8591-42b1-86c6-ecd6387a38af",
   "metadata": {},
   "source": [
    "## Planning\n",
    "\n",
    "### Heat transfer methods - Conduction\n",
    "\n",
    "Read wikipedia page do we use the heat transfer function from numerical methods?\n",
    "\n",
    "### Heat transfer methods - Radiation\n",
    "\n",
    "Read wikipedia page do we use the heat transfer function from numerical methods?\n",
    "\n",
    "### Heat transfer methods - Convection\n",
    "\n",
    "Read wikipedia page do we use the heat transfer function from numerical methods?\n",
    "\n",
    "### Implementation\n",
    "- Bulid a simple simulation of a rectange with a heat sink on the outside and heat source on the inside. Make it arbitrary dimensions for now.\n",
    "- Try and add a function to say when the temperature of the whole thing is within a certain range and what the difference between the highest and lowest temperatures are.\n",
    "- Is there a way to have 2 seperate diffusity constants? Is this necessary.\n",
    "- How does heat loss/gain to/from the environment work/get modelled.\n",
    "- Calculate the stability constants of the differential equations\n",
    "\n",
    "### Testing\n",
    "- Is there a way to test the heat loss and gain equations are working properly?\n",
    "- Track conservation of energy (This will need to account for energy going in and out of the system. But is that all consistent with the values inside?)"
   ]
  },
  {
   "cell_type": "code",
   "execution_count": null,
   "id": "b51cdd99-f9a1-4f19-b2d3-66c347dc7fe0",
   "metadata": {},
   "outputs": [],
   "source": []
  },
  {
   "cell_type": "code",
   "execution_count": null,
   "id": "2f3d26ac-ef75-4d40-80c0-72a8b45d85b9",
   "metadata": {},
   "outputs": [],
   "source": []
  }
 ],
 "metadata": {
  "kernelspec": {
   "display_name": "A345",
   "language": "python",
   "name": "a345"
  },
  "language_info": {
   "codemirror_mode": {
    "name": "ipython",
    "version": 3
   },
   "file_extension": ".py",
   "mimetype": "text/x-python",
   "name": "python",
   "nbconvert_exporter": "python",
   "pygments_lexer": "ipython3",
   "version": "3.9.21"
  }
 },
 "nbformat": 4,
 "nbformat_minor": 5
}
